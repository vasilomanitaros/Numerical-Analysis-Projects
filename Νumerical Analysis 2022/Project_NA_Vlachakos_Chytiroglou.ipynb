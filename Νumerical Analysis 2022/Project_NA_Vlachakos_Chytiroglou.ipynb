{
 "cells": [
  {
   "cell_type": "markdown",
   "metadata": {},
   "source": [
    "# Εργασία Αριθμητικής Ανάλυσης\n",
    "Κωνσταντίνος Βλαχάκος ΑΕΜ:10403\n",
    "\n",
    "Μιχαήλ Χυτίρογλου AEM:10475\n",
    "\n",
    "\n",
    "Runge-Kutta Method\n",
    "\n",
    "Οι συνήθεις μέθοδοι προσέγγισης λύσεων διαφορικών εξισώσεων περιγράφονται από τις μεθόδους Runge-Kutta σε γενική μορφή ως:\n",
    "\n",
    "$ {y_{i + 1}} = {y_i} + \\sum\\limits_{i = 0}^{r - 1} {{w_i}{k_i},} \\sum\\limits_{i = 0}^{r - 1} {{w_i} = 1}  $\n",
    "\n",
    "Μία από αυτές είναι αυτή της 4ης τάξης (RK4) η οποία περιγράφεται ως εξής:\n",
    "$\n",
    "{k_0} = hf({x_i},{y_i})\\\\\n",
    "{k_1} = hf({x_i} + \\frac{1}{2}h,{y_i} + \\frac{1}{2}{k_0})\\\\\n",
    "{k_2} = hf({x_i} + \\frac{1}{2}h,{y_i} + \\frac{1}{2}{k_1})\\\\\n",
    "{k_3} = hf({x_i} + h,{y_i} + {k_2})\\\\\n",
    "{y_{i + 1}} = {y_i} + \\frac{1}{6}({k_0} + 2{k_1} + 2{k_2} + {k_3})$\n",
    "\n",
    "Για την προσέγγιση των λύσεων συστήματος διαφορικών εξισώσεων, γράφουμε το σύστημα με τη μορφή εξίσωσης διανυσματικών συναρτήσεων.\n",
    "Έτσι για σύστημα n διαφορικών εξισώσεων μπορούμε να το γράψουμε με την εξής μορφή:\n",
    "\n",
    "$\n",
    "\\left. \\begin{array}{l}\n",
    "{y_1}'(x) = f(x,{y_1},{y_2},...,{y_n}),{y_1}({x_0}) = {y_{1,0}}\\\\\n",
    "{y_2}'(x) = f(x,{y_1},{y_2},...,{y_n}),{y_2}({x_0}) = {y_{2,0}}\\\\\n",
    "...\\\\\n",
    "{y_n}'(x) = f(x,{y_1},{y_2},...,{y_n}),{y_n}({x_0}) = {y_{n,0}}\n",
    "\\end{array} \\right\\} \\Rightarrow {\\bf{y}}'(x) = {\\bf{f}}(x,{\\bf{y}}(x)),{\\bf{y}}({x_0}) = {{\\bf{y}}_0} $\n",
    "Έτσι έχουμε (για α και β τυχαίες τιμές):"
   ]
  },
  {
   "cell_type": "code",
   "execution_count": 2,
   "metadata": {},
   "outputs": [
    {
     "data": {
      "image/png": "[encoded data removed]",
      "text/plain": [
       "<Figure size 432x288 with 1 Axes>"
      ]
     },
     "metadata": {
      "needs_background": "light"
     },
     "output_type": "display_data"
    }
   ],
   "source": [
    "import matplotlib.pyplot as plt\n",
    "import numpy as np\n",
    "import math as m\n",
    "import scipy.optimize as scp\n",
    "\n",
    "# RK-4 method\n",
    "\n",
    "#y1=Y,y2=E,y3=T\n",
    "#xn=final x moment\n",
    "#n how many points\n",
    "#h step size\n",
    "#a,b parameters\n",
    "\n",
    "#Ιnputs \n",
    "x0 = 0\n",
    "y01 = 235\n",
    "y02 = 14\n",
    "y03 = 0\n",
    "xn = 109\n",
    "step = 109\n",
    "\n",
    "\n",
    "def rk4(x0,y01,y02,y03,xn,n,a,b):\n",
    "    f = lambda x,y1,y2,y3: -a*y1*y2   #y'\n",
    "    g = lambda x,y1,y2,y3: a*y1*y2-b*y2 #e'\n",
    "    p = lambda x,y1,y2,y3: b*y2 #t'\n",
    "    xparam=[0 for i in range (n)]\n",
    "    yparam1=[0 for i in range(n)]\n",
    "    yparam2=[0 for i in range (n)]\n",
    "    yparam3=[0 for i in range (n)]\n",
    "    # Calculating step size\n",
    "    h = (xn-x0)/n\n",
    "\n",
    "    for i in range(n):\n",
    "        k11 = h * (f(x0,y01,y02,y03))\n",
    "        k21 = h * (g(x0,y01,y02,y03))\n",
    "        k31 = h * (p(x0,y01,y02,y03))\n",
    "        k12 = h * (f((x0+h/2), (y01+k11/2),(y02+k21/2),(y03+k31/2)))\n",
    "        k22 = h * (g((x0+h/2), (y01+k11/2),(y02+k21/2),(y03+k31/2)))\n",
    "        k32 = h * (p((x0+h/2), (y01+k11/2),(y02+k21/2),(y03+k31/2)))\n",
    "        k13 = h * (f((x0+h/2), (y01+k12/2),(y02+k22/2),(y03+k32/2)))\n",
    "        k23 = h * (g((x0+h/2), (y01+k12/2),(y02+k22/2),(y03+k32/2)))\n",
    "        k33 = h * (p((x0+h/2), (y01+k12/2),(y02+k22/2),(y03+k32/2)))\n",
    "        k14 = h * (f((x0+h), (y01+k13),(y02+k23),(y03+k33)))\n",
    "        k24 = h * (g((x0+h), (y01+k13),(y02+k23),(y03+k33)))\n",
    "        k34 = h * (p((x0+h), (y01+k13),(y02+k23),(y03+33)))\n",
    "        k1 = (k11+2*k12+2*k13+k14)/6\n",
    "        k2 = (k21+2*k22+2*k23+k24)/6\n",
    "        k3 = (k31+2*k32+2*k33+k34)/6\n",
    "        yn1 = y01 + k1\n",
    "        yn2= y02 + k2\n",
    "        yn3= y03 + k3\n",
    "        xparam[i]=x0\n",
    "        yparam1[i]=yn1\n",
    "        yparam2[i]=yn2\n",
    "        yparam3[i]=yn3\n",
    "        y01 = yn1\n",
    "        y02= yn2\n",
    "        y03 = yn3\n",
    "        x0 = x0+h\n",
    "    return [xparam,yparam1,yparam2,yparam3]\n",
    "xparam=rk4(x0,y01,y02,y03,xn,step,1/1000,3/1000)[0]\n",
    "yparam1=rk4(x0,y01,y02,y03,xn,step,1/1000,3/1000)[1]\n",
    "yparam2=rk4(x0,y01,y02,y03,xn,step,1/1000,3/1000)[2]\n",
    "yparam3=rk4(x0,y01,y02,y03,xn,step,1/1000,3/1000)[3]\n",
    "plt.plot(xparam,yparam1,label='y')\n",
    "plt.plot(xparam,yparam2,label='e')\n",
    "plt.plot(xparam,yparam3,label='t')\n",
    "plt.legend()\n",
    "plt.show()"
   ]
  },
  {
   "cell_type": "markdown",
   "metadata": {},
   "source": [
    "Όπου x0,y01,y02,y03 οι αρχικές συνθήκες των συναρτήσεων (για x0=0: y01=235,y02=14,y03=0) και η συνάρτηση επιστρέφει μια λίστα με τις λίστες των προσεγγίσεων κατά x, Y(x), E(x), T(x). Για τις ανάγκες του μοντέλου, κρίθηκε σημαντικό το βήμα να είναι ανά μία μέρα ενώ οι συνολικές μέρες να φτάνουν αυτές των δεδομένων (109). Συνεπώς xn=step=109. Έπειτα για να προσαρμόσουμε το μοντέλο στα δεδομένα, τα εισάγουμε σε μορφή λίστας:"
   ]
  },
  {
   "cell_type": "code",
   "execution_count": 3,
   "metadata": {},
   "outputs": [
    {
     "name": "stdout",
     "output_type": "stream",
     "text": [
      "[0, 16, 31, 47, 62, 78, 109] [235, 201, 153, 121, 108, 97, 83] [14, 22, 29, 21, 8, 8, 0]\n"
     ]
    },
    {
     "data": {
      "image/png": "[encoded data removed]",
      "text/plain": [
       "<Figure size 432x288 with 1 Axes>"
      ]
     },
     "metadata": {
      "needs_background": "light"
     },
     "output_type": "display_data"
    }
   ],
   "source": [
    "xdata=[0,16,31,47,62,78,109]\n",
    "ydatay=[235,201,153,121,108,97,83]\n",
    "ydatae=[14,22,29,21,8,8,0]\n",
    "print(xdata,ydatay,ydatae)\n",
    "plt.scatter(xdata,ydatay,label='ydata')\n",
    "plt.scatter(xdata,ydatae,label='edata')\n",
    "plt.legend()\n",
    "plt.show()"
   ]
  },
  {
   "cell_type": "markdown",
   "metadata": {},
   "source": [
    "Για την προσαρμογή των παραμέτρων χρησιμοποιούμε τη συνάρτηση least_squares(fun,x0) της βιβλιοθήκης scipy.optimize. H συνάρτηση least_squares(fun,x0) βρίσκει για ένα εύρος τιμών γύρω από τη x0 το ελάχιστο τετραγωνικό σφάλμα, επιστρέφοντας το x για το οποίο έχουμε την ελαχιστοποίηση. Η συνάρτηση αυτή δέχεται σαν όρισμα μια συνάρτηση fun η οποία εκφράζει το συνολικό σφάλμα της προσέγγισης έναντι των δεδομένων.\n",
    "$|E(\\widehat {\\bf{p}})| = |{\\bf{p}} - \\widehat {\\bf{p}}| = \\sqrt {\\sum\\limits_{i = 0}^n {{{({p_i} - \\widehat {{p_i}})}^2}} } $\n",
    "Η συνάρτηση fun πρέπει να επιστρέφει μία μονοδιάστατη λίστα ή έναν μονοδιάστατο πίνακα με όλα τα σφάλματα για τα συγκεκριμένα δεδομένα που έχει να συγκρίνει (6) και να δέχεται σαν όρισμα τις παραμέτρους σε μορφή πίνακα x. Για την συγκεκριμένη ανάγκη, υλοποιούμε τη συνάρτηση errorfun(x):"
   ]
  },
  {
   "cell_type": "code",
   "execution_count": 16,
   "metadata": {},
   "outputs": [
    {
     "data": {
      "text/plain": [
       "[5.172889324942324,\n",
       " 230.0983351484202,\n",
       " 257.5873848780102,\n",
       " 242.80125990523518,\n",
       " 242.13784086991686,\n",
       " 230.99583747359551]"
      ]
     },
     "execution_count": 16,
     "metadata": {},
     "output_type": "execute_result"
    }
   ],
   "source": [
    "def errorfun(x):\n",
    "    errlist=[]\n",
    "    for i in range (len(xdata)-1):\n",
    "        errlist.append(m.sqrt((ydatay[i]-rk4(x0,y01,y02,y03,xn,step,x[0],x[1])[1][xdata[i]])**2+(ydatae[i]-rk4(x0,y01,y02,y03,xn,step,x[0],x[1])[2][xdata[i]])**2))\n",
    "    return errlist\n",
    "x=[1/1000,2/1000]\n",
    "errorfun(x)"
   ]
  },
  {
   "cell_type": "markdown",
   "metadata": {},
   "source": [
    "Έπειτα δίνουμε στη συνάρτηση least_squares(fun,x0) μια μαντεψιά για τις παραμέτρους (x0 πίνακας) και με trial and error προσπαθούμε να φτάσουμε όσο περισσότερο μπορούμε στα δεδομένα. Ύστερα και από έρευνα για το μοντέλο SIR, η τιμή που δώσαμε στο x0=(6/10000,95/1000). Τότε εφαρμόζοντας τη least_squares(fun,x0) παίρνουμε σαν output."
   ]
  },
  {
   "cell_type": "code",
   "execution_count": 25,
   "metadata": {},
   "outputs": [
    {
     "name": "stdout",
     "output_type": "stream",
     "text": [
      " active_mask: array([0., 0.])\n",
      "        cost: 53.13852574209166\n",
      "         fun: array([2.08848903, 7.55425707, 3.5126865 , 2.62879576, 4.95759021,\n",
      "       1.01055965])\n",
      "        grad: array([1364.34889334,  949.53443505])\n",
      "         jac: array([[ 4.39096380e+03, -5.14331135e+00],\n",
      "       [ 1.45156215e+05, -4.06579749e+02],\n",
      "       [-1.89982923e+05,  9.43059639e+02],\n",
      "       [-3.62782959e+05,  1.64492118e+03],\n",
      "       [ 1.17527433e+05, -8.41171777e+02],\n",
      "       [-6.52842169e+04,  5.59130184e+02]])\n",
      "     message: '`xtol` termination condition is satisfied.'\n",
      "        nfev: 29\n",
      "        njev: 16\n",
      "  optimality: 1364.348893338989\n",
      "      status: 3\n",
      "     success: True\n",
      "           x: array([0.00059803, 0.0980836 ])\n"
     ]
    }
   ],
   "source": [
    "x=[6/10000,95/1000]\n",
    "result=scp.least_squares(errorfun, x,verbose=0,method='trf')\n",
    "print(result)"
   ]
  },
  {
   "cell_type": "markdown",
   "metadata": {},
   "source": [
    "Βλέποντας την τελευταία γραμμή του output, εμφανίζονται οι βελτιστοποιημένες παράμετροι του α και β. Εφαρμόζοντας αυτές τις παραμέτρους στην rk4 παίρνουμε το βέλτιστο μοντέλο για τα συγκεκριμένα δεδομένα."
   ]
  },
  {
   "cell_type": "code",
   "execution_count": 26,
   "metadata": {},
   "outputs": [
    {
     "data": {
      "image/png": "[encoded data removed]",
      "text/plain": [
       "<Figure size 432x288 with 1 Axes>"
      ]
     },
     "metadata": {
      "needs_background": "light"
     },
     "output_type": "display_data"
    }
   ],
   "source": [
    "xparam=rk4(x0,y01,y02,y03,xn,step,0.00059803, 0.0980836)[0]\n",
    "yparam1=rk4(x0,y01,y02,y03,xn,step,0.00059803, 0.0980836)[1]\n",
    "yparam2=rk4(x0,y01,y02,y03,xn,step,0.00059803, 0.0980836)[2]\n",
    "yparam3=rk4(x0,y01,y02,y03,xn,step,0.00059803, 0.0980836)[3]\n",
    "plt.plot(xparam,yparam1,label='y')\n",
    "plt.plot(xparam,yparam2,label='e')\n",
    "plt.plot(xparam,yparam3,label='t')\n",
    "plt.scatter(xdata,ydatay,label='ydata')\n",
    "plt.scatter(xdata,ydatae,label='edata')\n",
    "plt.legend()\n",
    "\n",
    "plt.legend()\n",
    "plt.show()"
   ]
  },
  {
   "cell_type": "markdown",
   "metadata": {},
   "source": [
    "Ανακεφαλαιώνοντας, με δεδομένα το σύστημα των διαφορικών εξισώσεων και τους πίνακες τιμών ακολούθησαμε τα εξής βήματα για την εύρεση του πιο κατάλληλου μοντέλου:\n",
    "\n",
    "1)Διακριτοποίηση του συστήματος των διαφορικών εξισώσεων με τη μέθοδο Runge-Kutta 4th Order\n",
    "\n",
    "2)Εισαγωγή του δείγματος των δεδομένων\n",
    "\n",
    "3)Υλοποίηση συνάρτησης εκτίμησης σφάλματος\n",
    "\n",
    "4)Βελτιστοποίηση των παραμέτρων μέσα από την εύρεση του ελάχιστου τετραγωνικού σφάλματος (scipy.optimize.least_squares(fun,x0))\n",
    "\n",
    "Το παρόν μοντέλο σίγουρα επιδέχεται βελτιώσεις καθώς για διαφορετικές αριθμητικές μεθόδους/ορίσματα που μπορεί να ακολουθήσει η least_squares θα έχουμε και διαφορετικές προσεγγίσεις των παραμέτρων (arguments: method, loss ...). Σε κάθε περίπτωση η ανάγκη και η αιτία ερμηνείας του δείγματος των δεδομένων είναι αυτή που θα μας δείξει ποια μέθοδος είναι η πιο κατάλληλη."
   ]
  }
 ],
 "metadata": {
  "kernelspec": {
   "display_name": "Python 3",
   "language": "python",
   "name": "python3"
  },
  "language_info": {
   "codemirror_mode": {
    "name": "ipython",
    "version": 3
   },
   "file_extension": ".py",
   "mimetype": "text/x-python",
   "name": "python",
   "nbconvert_exporter": "python",
   "pygments_lexer": "ipython3",
   "version": "3.8.5"
  }
 },
 "nbformat": 4,
 "nbformat_minor": 4
}
