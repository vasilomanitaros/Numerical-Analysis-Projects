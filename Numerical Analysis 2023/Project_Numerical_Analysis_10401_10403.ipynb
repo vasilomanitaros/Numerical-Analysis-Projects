{
 "cells": [
  {
   "cell_type": "markdown",
   "id": "50a50840",
   "metadata": {},
   "source": [
    "# Εργασία Αριθμητικής Ανάλυσης\n",
    "\n",
    " *Βερνάδου Άρτεμις ΑΕΜ:10401*\n",
    " \n",
    " *Βλαχάκος Κωνσταντίνος ΑΕΜ:10403*\n",
    " \n",
    " H εργασία αυτή αξιοποιεί τις μεθόδους παραγοντοποίησης πινάκων LU και QR με σκοπό την λύση γραμμικών συστημάτων, τα οποία εμφανίζονται σε διάφορες περιπτώσεις. "
   ]
  },
  {
   "cell_type": "markdown",
   "id": "b2889f8b",
   "metadata": {},
   "source": [
    "## Παραγοντοποιήσεις LU και QR\n",
    "\n",
    "Δίνονται οι παραγοντοποιήσεις LU και QR, ενώ ζητείται η υλοποίηση της συνάρτησης QR σύμφωνα με την μέθοδο Gram-Schmidt, η οποία περιγράφεται συντόμως ως εξής:\n",
    "\n",
    "Έστω πίνακας $A = \\left[ {\\begin{array}{*{20}{c}}\n",
    "  {\\left. {{a_1}} \\right|}&{\\left. {{a_2}} \\right|}&{...}&{\\left| {{a_n}} \\right.} \n",
    "\\end{array}} \\right]$ ($a_i$ διανύσματα στήλη) Ορίζω τα διανύσματα βάσης ως εξής:\n",
    "\n",
    "$\\left. \\begin{gathered}\n",
    "  {u_1} = {a_1},{\\text{ }}{e_1} = \\frac{{{u_1}}}{{\\left\\| {{u_1}} \\right\\|}} \\hfill \\\\\n",
    "  {u_2} = {a_2} - ({a_2} \\cdot {e_1}){e_1},{\\text{ }}{e_2} = \\frac{{{u_2}}}{{\\left\\| {{u_2}} \\right\\|}} \\hfill \\\\\n",
    "  {u_{k + 1}} = {a_{k + 1}} - ({a_{k + 1}} \\cdot {e_1}){e_1} - ... - ({a_{k + 1}}{e_k}){e_k},{\\text{ }}{e_{k + 1}} = \\frac{{{u_{k + 1}}}}{{\\left\\| {{u_{k + 1}}} \\right\\|}} \\hfill \\\\ \n",
    "\\end{gathered}  \\right\\}{u_k} = {a_k} - \\sum\\limits_{i = 1}^{k - 1} {({a_k} \\cdot {e_i}){e_i},{\\text{ }}{e_k} = \\frac{{{u_k}}}{{\\left\\| {{u_k}} \\right\\|}}}$\n",
    "\n",
    "Τότε ο πίνακας $Q = \\left[ {\\begin{array}{*{20}{c}}\n",
    "  {\\left. {{e_1}} \\right|}&{\\left. {{e_2}} \\right|}&{...}&{\\left| {{e_n}} \\right.} \n",
    "\\end{array}} \\right]$ είναι ο ορθογώνιος και ο πίνακας $R = \\left[ {\\begin{array}{*{20}{c}}\n",
    "  {{a_1}{e_1}}&{{a_2}{e_2}}&{...}&{{a_n}{e_1}} \\\\ \n",
    "  0&{{a_2}{e_2}}&{...}&{{a_n}{e_2}} \\\\ \n",
    "   \\vdots & \\vdots & \\ddots & \\vdots  \\\\ \n",
    "  0&0&{...}&{{a_n}{e_n}} \n",
    "\\end{array}} \\right]$ ο άνω τριγωνικός.\n",
    "\n",
    "Συνεπώς $A=Q\\cdot R$ H υλοποίηση σε κώδικα είναι:"
   ]
  },
  {
   "cell_type": "code",
   "execution_count": 1,
   "id": "fe54f3eb",
   "metadata": {},
   "outputs": [],
   "source": [
    "import numpy as np\n",
    "import matplotlib.pyplot as plt\n",
    "import math as m\n",
    "\n",
    "def Lumine(A):\n",
    "    n=A.shape[0]\n",
    "    L=np.array(np.identity(n))\n",
    "    U=A\n",
    "    for j in range(0,n-1):\n",
    "        for i in range(j+1,n):\n",
    "            mult=A[i,j]/A[j,j]\n",
    "            A[i,j+1:n]=A[i,j+1:n]-mult*A[j,j+1:n]\n",
    "            U[i,j+1:n]=A[i,j+1:n]\n",
    "            L[i,j]=mult\n",
    "            U[i,j]=0\n",
    "    return L,U\n",
    "\n",
    "def QRmine(A):\n",
    "    n=A.shape[0]\n",
    "    Q=np.array(np.zeros((n,n)))\n",
    "    for j in range(0,n):\n",
    "        q=A[:,j]\n",
    "        for i in range(0,j):\n",
    "            length_of_leg=np.sum(A[:,j].T*Q[:,i])\n",
    "            q=q-length_of_leg.T*Q[:,i]  \n",
    "        Q[:,j]=(q/np.linalg.norm(q))\n",
    "\n",
    "    R=np.array(np.zeros((n,n)))\n",
    "    for j in range(0,n):\n",
    "        for i in range(0,n):\n",
    "            if (i<=j):\n",
    "                R[i,j]=np.sum(A[:,j].T*Q[:,i])            \n",
    "    return Q,R"
   ]
  },
  {
   "cell_type": "markdown",
   "id": "4d88fe18",
   "metadata": {},
   "source": [
    "Για τη δοκιμή του κώδικα εισάγονται πίνακες διαφόρων διαστάσεων με τυχαίους ακεραίους αριθμούς και εκτελείται ο έλεγχος της διαφοράς του $Α-Q \\cdot R$\n",
    "Παρατηρείται ότι για μεγαλύτερο n, η διαφορά μεταξύ του γινομένου $Q \\cdot R$ και $A$ αυξάνεται σημαντικά. Αυτό οφείλεται στο γεγονός πως αυξάνονται οι διαιρέσεις με την $L_2$ νόρμα η οποία λόγω της χωρητικότητας των 16 σημαντικών ψηφίων του float χάνει σε ακρίβεια. Τα σφάλματα αυτά επιδρούν στους επιμέρους πολλπαλασιασμούς γραμμών και στηλών αυξάνοντας το συνολικό σφάλμα της μεθόδου."
   ]
  },
  {
   "cell_type": "code",
   "execution_count": 2,
   "id": "4331dd7f",
   "metadata": {},
   "outputs": [
    {
     "name": "stdout",
     "output_type": "stream",
     "text": [
      "Error for 3x3: 1.9891280697202825e-15\n",
      "------------------------\n",
      "\n",
      "[[1. 1. 5.]\n",
      " [7. 4. 7.]\n",
      " [2. 9. 1.]] \n",
      "\n",
      "[[1. 1. 5.]\n",
      " [7. 4. 7.]\n",
      " [2. 9. 1.]]\n",
      "------------------------\n",
      "\n",
      "Error for 5x5: 1.0667240113805567e-13\n",
      "------------------------\n",
      "\n",
      "[[0. 3. 7. 1. 8.]\n",
      " [3. 5. 9. 5. 8.]\n",
      " [4. 0. 2. 5. 6.]\n",
      " [0. 1. 6. 0. 5.]\n",
      " [7. 3. 3. 9. 3.]] \n",
      "\n",
      "[[0.0000000e+00 3.0000000e+00 7.0000000e+00 1.0000000e+00 8.0000000e+00]\n",
      " [3.0000000e+00 5.0000000e+00 9.0000000e+00 5.0000000e+00 8.0000000e+00]\n",
      " [4.0000000e+00 0.0000000e+00 2.0000000e+00 5.0000000e+00 6.0000000e+00]\n",
      " [0.0000000e+00 1.0000000e+00 6.0000000e+00 1.9817481e-14 5.0000000e+00]\n",
      " [7.0000000e+00 3.0000000e+00 3.0000000e+00 9.0000000e+00 3.0000000e+00]]\n",
      "------------------------\n",
      "\n",
      "Error for 10x10: 3.655956159995034e-14\n",
      "------------------------\n",
      "\n",
      "[[0. 4. 5. 6. 7. 5. 6. 3. 9. 8.]\n",
      " [2. 9. 4. 8. 7. 8. 1. 5. 6. 7.]\n",
      " [9. 2. 6. 9. 5. 9. 0. 7. 0. 9.]\n",
      " [2. 6. 4. 3. 6. 0. 3. 9. 5. 3.]\n",
      " [5. 7. 5. 1. 1. 4. 9. 4. 6. 0.]\n",
      " [1. 8. 3. 8. 5. 3. 7. 7. 8. 8.]\n",
      " [0. 6. 3. 4. 5. 8. 4. 9. 4. 4.]\n",
      " [0. 2. 8. 5. 1. 2. 5. 3. 4. 6.]\n",
      " [7. 8. 2. 6. 7. 2. 9. 3. 3. 1.]\n",
      " [2. 8. 6. 5. 2. 0. 4. 2. 6. 7.]] \n",
      "\n",
      "[[ 0.00000000e+00  4.00000000e+00  5.00000000e+00  6.00000000e+00\n",
      "   7.00000000e+00  5.00000000e+00  6.00000000e+00  3.00000000e+00\n",
      "   9.00000000e+00  8.00000000e+00]\n",
      " [ 2.00000000e+00  9.00000000e+00  4.00000000e+00  8.00000000e+00\n",
      "   7.00000000e+00  8.00000000e+00  1.00000000e+00  5.00000000e+00\n",
      "   6.00000000e+00  7.00000000e+00]\n",
      " [ 9.00000000e+00  2.00000000e+00  6.00000000e+00  9.00000000e+00\n",
      "   5.00000000e+00  9.00000000e+00  4.44089210e-16  7.00000000e+00\n",
      "  -1.55431223e-15  9.00000000e+00]\n",
      " [ 2.00000000e+00  6.00000000e+00  4.00000000e+00  3.00000000e+00\n",
      "   6.00000000e+00 -4.44089210e-16  3.00000000e+00  9.00000000e+00\n",
      "   5.00000000e+00  3.00000000e+00]\n",
      " [ 5.00000000e+00  7.00000000e+00  5.00000000e+00  1.00000000e+00\n",
      "   1.00000000e+00  4.00000000e+00  9.00000000e+00  4.00000000e+00\n",
      "   6.00000000e+00 -6.88338275e-15]\n",
      " [ 1.00000000e+00  8.00000000e+00  3.00000000e+00  8.00000000e+00\n",
      "   5.00000000e+00  3.00000000e+00  7.00000000e+00  7.00000000e+00\n",
      "   8.00000000e+00  8.00000000e+00]\n",
      " [ 0.00000000e+00  6.00000000e+00  3.00000000e+00  4.00000000e+00\n",
      "   5.00000000e+00  8.00000000e+00  4.00000000e+00  9.00000000e+00\n",
      "   4.00000000e+00  4.00000000e+00]\n",
      " [ 0.00000000e+00  2.00000000e+00  8.00000000e+00  5.00000000e+00\n",
      "   1.00000000e+00  2.00000000e+00  5.00000000e+00  3.00000000e+00\n",
      "   4.00000000e+00  6.00000000e+00]\n",
      " [ 7.00000000e+00  8.00000000e+00  2.00000000e+00  6.00000000e+00\n",
      "   7.00000000e+00  2.00000000e+00  9.00000000e+00  3.00000000e+00\n",
      "   3.00000000e+00  1.00000000e+00]\n",
      " [ 2.00000000e+00  8.00000000e+00  6.00000000e+00  5.00000000e+00\n",
      "   2.00000000e+00 -8.88178420e-16  4.00000000e+00  2.00000000e+00\n",
      "   6.00000000e+00  7.00000000e+00]]\n",
      "------------------------\n",
      "\n"
     ]
    }
   ],
   "source": [
    "B=np.zeros(((10,10)))\n",
    "for i in range (0,10):\n",
    "    for j in range (0,10):\n",
    "        B[i][j]=np.random.randint(10)\n",
    "\n",
    "A=np.zeros(((5,5)))\n",
    "for i in range (0,5):\n",
    "    for j in range (0,5):\n",
    "        A[i][j]=np.random.randint(10)\n",
    "        \n",
    "C=np.zeros(((3,3)))\n",
    "for i in range (0,3):\n",
    "    for j in range (0,3):\n",
    "        C[i][j]=np.random.randint(10)\n",
    "\n",
    "resultC=QRmine(C)\n",
    "Qc=resultC[0]\n",
    "Rc=resultC[1]        \n",
    "print(\"Error for 3x3:\",np.linalg.norm(C-np.dot(Qc,Rc)))\n",
    "print(\"------------------------\\n\")\n",
    "print(C,\"\\n\")\n",
    "print(np.dot(Qc,Rc))        \n",
    "print(\"------------------------\\n\")\n",
    "\n",
    "resultA=QRmine(A)\n",
    "Qa=resultA[0]\n",
    "Ra=resultA[1]        \n",
    "print(\"Error for 5x5:\",np.linalg.norm(A-np.dot(Qa,Ra)))\n",
    "print(\"------------------------\\n\")\n",
    "print(A,\"\\n\")\n",
    "print(np.dot(Qa,Ra))\n",
    "print(\"------------------------\\n\")\n",
    "\n",
    "resultB=QRmine(B)\n",
    "Qb=resultB[0]\n",
    "Rb=resultB[1]        \n",
    "print(\"Error for 10x10:\",np.linalg.norm(B-np.dot(Qb,Rb)))\n",
    "print(\"------------------------\\n\")\n",
    "print(B,\"\\n\")\n",
    "print(np.dot(Qb,Rb))\n",
    "print(\"------------------------\\n\")\n"
   ]
  },
  {
   "cell_type": "markdown",
   "id": "4881cde7",
   "metadata": {},
   "source": [
    "# Πίνακες Hilbert\n",
    "\n",
    "Για τον έλεγχο των παραπάνω μεθόδων αξιοποιώ τους πίνακες Hilbert οι οποίοι ορίζονται ως εξής: $H_{ij}=\\frac{1}{{i + j + 1}}$ με δείκτες από το 0. Οι πίνακες Hilbert αναφέρονται στη βιβλιογραφία ως χαρακτηριστικά παραδείγματα ill-conditioned πινάκων, δηλαδή συστημάτων ευαίσθητων στην μεταβολή (μια μικρή μεταβολή στην είσοδο προκαλεί μεγάλες μεταβολές στην έξοδο), χαρακτηριστικό το οποίο μπορεί να μεγιστοποιήσει εύκολα το σφάλμα των αριθμητικών μεθόδων (λόγω προσέγγισης ή λόγω περιορισμένων σημαντικών ψηφίων στο float). Έτσι, χρησιμοποιούνται ως μια ακραία περίπτωση δοκιμής για τις συναρτήσεις αριθμητικών αλγορίθμων.\n",
    "\n",
    "Αρχικά δημιουργώ τη συνάρτηση για την δημιουργία πινάκων Hilbert διαφόρων διαστάσεων. Επιπρόσθετα, ορίζω δύο συναρτήσεις LUsolve, QRsolve που χρησιμοποιούν τις παραγοντοποιήσεις LU και QR για την εύκολη ανάγνωση του κώδικα. Στη συνέχεια δοκιμάζω τη συνάρτηση που έφτιαξα για ενδεικτικές τιμές 3,4,5"
   ]
  },
  {
   "cell_type": "code",
   "execution_count": 3,
   "id": "958d0393",
   "metadata": {},
   "outputs": [
    {
     "name": "stdout",
     "output_type": "stream",
     "text": [
      "[[1.         0.5        0.33333333]\n",
      " [0.5        0.33333333 0.25      ]\n",
      " [0.33333333 0.25       0.2       ]] \n",
      "\n",
      "[[1.         0.5        0.33333333 0.25      ]\n",
      " [0.5        0.33333333 0.25       0.2       ]\n",
      " [0.33333333 0.25       0.2        0.16666667]\n",
      " [0.25       0.2        0.16666667 0.14285714]] \n",
      "\n",
      "[[1.         0.5        0.33333333 0.25       0.2       ]\n",
      " [0.5        0.33333333 0.25       0.2        0.16666667]\n",
      " [0.33333333 0.25       0.2        0.16666667 0.14285714]\n",
      " [0.25       0.2        0.16666667 0.14285714 0.125     ]\n",
      " [0.2        0.16666667 0.14285714 0.125      0.11111111]] \n",
      "\n"
     ]
    }
   ],
   "source": [
    "def Hilbert(n):\n",
    "    H=np.array(np.zeros((n,n)))\n",
    "    for i in range (0,n):\n",
    "        for j in range (0,n):\n",
    "            H[i,j]=1/(i+j+1)\n",
    "    return H\n",
    "\n",
    "def LUsolve(A,b):\n",
    "    LU=Lumine(A)\n",
    "    L=LU[0]\n",
    "    U=LU[1]\n",
    "    y=np.linalg.solve(L,b)\n",
    "    x=np.linalg.solve(U,y)\n",
    "    return x\n",
    "\n",
    "def QRsolve(A,b):\n",
    "    QR=QRmine(A)\n",
    "    Q=QR[0]\n",
    "    R=QR[1]\n",
    "    y=np.linalg.solve(Q,b)\n",
    "    x=np.linalg.solve(R,y)\n",
    "    return x\n",
    "\n",
    "for i in range(3,6):\n",
    "    m=Hilbert(i)\n",
    "    print(m,\"\\n\")"
   ]
  },
  {
   "cell_type": "markdown",
   "id": "628ced86",
   "metadata": {},
   "source": [
    "Δημιουργώ το διάνυσμα $b_n=1$ με ενδεικτική διάσταση 3 και έπειτα λύνω το σύστημα $Hx=b$ και με τους δύο τρόπους παραγοντοποίησης που υλοποίησα:"
   ]
  },
  {
   "cell_type": "code",
   "execution_count": 4,
   "id": "f4ed1737",
   "metadata": {},
   "outputs": [
    {
     "name": "stdout",
     "output_type": "stream",
     "text": [
      "[[  3. -24.  30.]] \n",
      " [[  3. -24.  30.]]\n"
     ]
    }
   ],
   "source": [
    "n=3\n",
    "b=np.ones((n,1))\n",
    "xlu=LUsolve(Hilbert(n), b)\n",
    "xqr=QRsolve(Hilbert(n),b)\n",
    "print(xlu.T,\"\\n\",xqr.T)"
   ]
  },
  {
   "cell_type": "markdown",
   "id": "c7672bf1",
   "metadata": {},
   "source": [
    "Έπειτα ορίζω το διάνυσμα $b_{new}$ και στο πρώτο στοιχείο του, εφαρμόζω την ελάχιστη μεταβολή δεκαδικού ψηφίου που μπορώ να εφαρμόσω στο float, μια προσθήκη της τάξεως του $10^{-15}$"
   ]
  },
  {
   "cell_type": "code",
   "execution_count": 5,
   "id": "06c0e368",
   "metadata": {
    "scrolled": true
   },
   "outputs": [
    {
     "name": "stdout",
     "output_type": "stream",
     "text": [
      "Μέγιστη Απόλυτη Διαφορά LU: 2.842170943040401e-14 \n",
      "Μέγιστη Απόλυτη Διαφορά QR: 2.1316282072803006e-14\n"
     ]
    }
   ],
   "source": [
    "bnew=np.ones(((n,1)))\n",
    "bnew[0]=bnew[0]+10**(-15)\n",
    "xnewlu=LUsolve(Hilbert(n),bnew)\n",
    "xnewqr=QRsolve(Hilbert(n),bnew)\n",
    "maxlu=np.max(np.abs(xlu-xnewlu))\n",
    "maxqr=np.max(np.abs(xqr-xnewqr))\n",
    "print(\"Μέγιστη Απόλυτη Διαφορά LU:\",maxlu,\"\\nΜέγιστη Απόλυτη Διαφορά QR:\",maxqr)"
   ]
  },
  {
   "cell_type": "markdown",
   "id": "1a85a766",
   "metadata": {},
   "source": [
    "Παρατηρώ ότι οι μεταβολές είναι σχετικά μικρές με την είσοδο για τη διάσταση 3 και έπειτα δοκιμάζω το σύστημα για διάφορες διαστάσεις ενδεικτικά από 2 έως 20 παρουσιάζοντας τα αποτελέσματα:"
   ]
  },
  {
   "cell_type": "code",
   "execution_count": 6,
   "id": "a9335729",
   "metadata": {},
   "outputs": [
    {
     "data": {
      "image/png": "[encoded data removed]",
      "text/plain": [
       "<Figure size 432x288 with 1 Axes>"
      ]
     },
     "metadata": {
      "needs_background": "light"
     },
     "output_type": "display_data"
    },
    {
     "data": {
      "image/png": "[encoded data removed]",
      "text/plain": [
       "<Figure size 432x288 with 1 Axes>"
      ]
     },
     "metadata": {
      "needs_background": "light"
     },
     "output_type": "display_data"
    }
   ],
   "source": [
    "def maxbnew(n):\n",
    "    #Solve Hx=b\n",
    "    b=np.ones((n,1))\n",
    "    xlu=LUsolve(Hilbert(n), b)\n",
    "    xqr=QRsolve(Hilbert(n),b)\n",
    "    bnew=np.ones((n,1))\n",
    "    bnew[0]=bnew[0]+10**(-15)\n",
    "    xlunew=LUsolve(Hilbert(n),bnew)\n",
    "    xqrnew=QRsolve(Hilbert(n),bnew)\n",
    "    maxbnewlu=np.max(np.abs(xlu-xlunew))\n",
    "    maxbnewqr=np.max(np.abs(xqr-xqrnew))\n",
    "    return maxbnewlu,maxbnewqr\n",
    "\n",
    "xdata=list()\n",
    "ydatalu=list() \n",
    "ydataqr=list() \n",
    "for i in range(2,20):\n",
    "    xdata.append(i)\n",
    "    maxb=maxbnew(i)\n",
    "    ydatalu.append(maxb[0])\n",
    "    ydataqr.append(maxb[1])\n",
    "    \n",
    "plt.plot(xdata,ydatalu)\n",
    "plt.title('LU System Solver')\n",
    "plt.xlabel('n dimension of Hilbert')\n",
    "plt.ylabel('Maximum variation of solution')\n",
    "plt.show()\n",
    "plt.plot(xdata,ydataqr)\n",
    "plt.title('QR System Solver')\n",
    "plt.xlabel('n dimension of Hilbert')\n",
    "plt.ylabel('Maximum variation of solution')\n",
    "plt.show()"
   ]
  },
  {
   "cell_type": "markdown",
   "id": "950ba51c",
   "metadata": {},
   "source": [
    "Όπως παρατηρείται, για μεγάλα n οι μέγιστες απόλυτες διαφορές μεγεθύνονται εκθετικά και απρόβλεπτα (μεγάλη αβεβαιότητα) ενώ η τάξη μεγέθους της διαφοράς για το QR είναι πολύ μεγαλύτερη. Συνεπώς η μέθοδος QR είναι πιο πιθανό να μας οδηγήσει σε μεγαλύτερα σφάλματα, καθώς οι ελάχιστες μεταβολές που μπορεί να προκύψουν από τις αριθμητικές μεθόδους του υπολογιστή επηρεάζουν σε πολύ μεγαλύτερη ποσότητα την έξοδο."
   ]
  },
  {
   "cell_type": "markdown",
   "id": "d94b8507",
   "metadata": {},
   "source": [
    "Η τελευταία δοκιμή αφορά τον υπολογισμό του αντιστρόφου πίνακα Hilbert και τον υπολογισμό του γινομένου $H \\cdot H^{-1}$ το οποίο πρέπει να ισούται με τον μοναδιαίο πίνακα. Για τους λόγους αυτούς δοκιμάζεται η έτοιμη συνάρτηση np.linalg.inv():"
   ]
  },
  {
   "cell_type": "code",
   "execution_count": 7,
   "id": "66e7870b",
   "metadata": {},
   "outputs": [
    {
     "name": "stdout",
     "output_type": "stream",
     "text": [
      "n=3:\n",
      " [[ 1.00000000e+00  0.00000000e+00  0.00000000e+00]\n",
      " [ 8.88178420e-16  1.00000000e+00  0.00000000e+00]\n",
      " [ 0.00000000e+00 -7.10542736e-15  1.00000000e+00]] \n",
      "\n",
      "n=5:\n",
      " [[ 1.00000000e+00 -4.54747351e-13 -1.81898940e-12  0.00000000e+00\n",
      "   0.00000000e+00]\n",
      " [-1.42108547e-14  1.00000000e+00  0.00000000e+00 -5.45696821e-12\n",
      "  -2.72848411e-12]\n",
      " [ 0.00000000e+00 -4.54747351e-13  1.00000000e+00  0.00000000e+00\n",
      "  -9.09494702e-13]\n",
      " [ 0.00000000e+00  2.27373675e-13  0.00000000e+00  1.00000000e+00\n",
      "  -9.09494702e-13]\n",
      " [ 1.42108547e-14 -2.27373675e-13  0.00000000e+00 -1.81898940e-12\n",
      "   1.00000000e+00]] \n",
      "\n",
      "n=7:\n",
      " [[ 1.00000000e+00  1.45519152e-11 -1.16415322e-10  0.00000000e+00\n",
      "   0.00000000e+00  9.31322575e-10  2.32830644e-10]\n",
      " [-2.27373675e-13  1.00000000e+00  3.49245965e-10 -9.31322575e-10\n",
      "  -1.86264515e-09 -1.86264515e-09  2.32830644e-10]\n",
      " [-9.09494702e-13  0.00000000e+00  1.00000000e+00 -4.65661287e-10\n",
      "  -1.86264515e-09 -9.31322575e-10  6.98491931e-10]\n",
      " [-4.54747351e-13 -2.91038305e-11  1.16415322e-10  9.99999998e-01\n",
      "  -1.86264515e-09 -1.86264515e-09  2.32830644e-10]\n",
      " [ 0.00000000e+00 -7.27595761e-12  1.74622983e-10 -2.32830644e-10\n",
      "   1.00000000e+00 -2.32830644e-09  6.98491931e-10]\n",
      " [-2.27373675e-13 -2.18278728e-11  1.16415322e-10  0.00000000e+00\n",
      "   0.00000000e+00  1.00000000e+00  4.65661287e-10]\n",
      " [-9.09494702e-13  7.27595761e-12 -1.16415322e-10  0.00000000e+00\n",
      "  -2.32830644e-09 -4.65661287e-10  1.00000000e+00]] \n",
      "\n"
     ]
    }
   ],
   "source": [
    "def maxerrorinverse(n):\n",
    "    H=Hilbert(n)\n",
    "    H_1=np.linalg.inv(H)\n",
    "    maxerror=np.linalg.norm((np.identity(n))-np.dot(H,H_1))\n",
    "    return maxerror\n",
    "def hh_1(n):\n",
    "    H=Hilbert(n)\n",
    "    H_1=np.linalg.inv(H)\n",
    "    p=np.dot(H,H_1)\n",
    "    \n",
    "    return p\n",
    "print(\"n=3:\\n\",hh_1(3),\"\\n\")\n",
    "print(\"n=5:\\n\",hh_1(5),\"\\n\")\n",
    "print(\"n=7:\\n\",hh_1(7),\"\\n\")"
   ]
  },
  {
   "cell_type": "markdown",
   "id": "6fedc518",
   "metadata": {},
   "source": [
    "Παρατηρούμε ότι το σφάλμα είναι πολύ μικρό, ωστόσο για μεγαλύτερα n αυξάνεται επίσης εκθετικά:"
   ]
  },
  {
   "cell_type": "code",
   "execution_count": 8,
   "id": "4e1271a7",
   "metadata": {},
   "outputs": [
    {
     "name": "stdout",
     "output_type": "stream",
     "text": [
      "1.0087767680389479e-14 \n",
      " 7.710642672568372e-12 \n",
      " 6.049550921680026e-09\n"
     ]
    }
   ],
   "source": [
    "print(maxerrorinverse(3),\"\\n\",maxerrorinverse(5),\"\\n\",maxerrorinverse(7))"
   ]
  },
  {
   "cell_type": "markdown",
   "id": "d755f7ed",
   "metadata": {},
   "source": [
    "Τέλος, για διάφορες διαστάσεις ενδεικτικά από 2 έως 20 παρουσιάζονται οι τιμές της $L_2$ νόρμας της διαφοράς του υπολογισμένου γινομένου από τον μοναδιαίο πίνακα (μετρική σφάλματος)."
   ]
  },
  {
   "cell_type": "code",
   "execution_count": 9,
   "id": "034d745c",
   "metadata": {},
   "outputs": [
    {
     "data": {
      "image/png": "[encoded data removed]",
      "text/plain": [
       "<Figure size 432x288 with 1 Axes>"
      ]
     },
     "metadata": {
      "needs_background": "light"
     },
     "output_type": "display_data"
    }
   ],
   "source": [
    "xdata=list()\n",
    "ydata=list()\n",
    "for i in range(2,20):\n",
    "    xdata.append(i)\n",
    "    ydata.append(maxerrorinverse(i))\n",
    "    \n",
    "plt.plot(xdata,ydata)\n",
    "plt.title('Metric of Inverse function error')\n",
    "plt.xlabel('n dimension of Hilbert')\n",
    "plt.ylabel('||Η*Ηinverse-In||')\n",
    "plt.show()"
   ]
  },
  {
   "cell_type": "markdown",
   "id": "cd16408d",
   "metadata": {},
   "source": [
    "Παρατηρούμε και εδώ ότι όσο αυξάνεται το n το σφάλμα μεγεθύνεται πάλι εκθετικά και απρόβλεπτα. Συνεπώς, οι πίνακες Hilbert παρουσιάζουν ιδιαίτερη δυσκολία στην ακριβή ή προσεγγιστική αντιμετώπισή τους με μεθόδους του υπολογιστή καθώς όπως διαπιστώθηκε παρουσιάζουν τεράστιες μεταβολές στην έξοδο σε σχέση με την είσοδό τους ως συστήματα. Τέλος, η μέθοδος η οποία θα έδινε τα ελάχιστα σφάλματα υπολοίπων κατά την αριθμητική επίλυση με τον υπολογιστή θα είχε και καλύτερες επιδόσεις στις πράξεις με πίνακες Hilbert."
   ]
  },
  {
   "cell_type": "markdown",
   "id": "f2ddf045",
   "metadata": {},
   "source": [
    "# Πρόβλημα Προσέγγισης"
   ]
  },
  {
   "cell_type": "markdown",
   "id": "04b66ad1",
   "metadata": {},
   "source": [
    "Για το παρόν πρόβλημα προσέγγισης ζητείται να κατασκευαστεί πολυώνυμο 4ου βαθμού που θα προσεγγίζει βέλτιστα μια καμπύλη. Η μέθοδος που θα υλοποιηθεί αξιοποιεί την επίλυση γραμμικών συστημάτων και ονομάζεται μέθοδος ελαχίστων τετραγώνων. Έτσι σύμφωνα με τη μέθοδο αυτή:\n",
    "\n",
    "To πολυώνυμο θα είναι της μορφής $a + bx + c{x^2} + d{x^3} + e{x^4}$ από το οποίο παίρνω τους συντελεστές και δημιουργώ το διάνυσμα $X=[\\begin{array}{*{20}{c}}a&b&c&d&e \\end{array}]$. \n",
    "Έπειτα ορίζω τον πίνακα $A=[A_i]=[\\begin{array}{*{20}{c}}1&{{t_i}}&{{t_i}^2}&{{t_i}^3}&{{t_i}^4} \\end{array}]$ όπου $A_i$ γραμμή του πίνακα για κάθε σημείο t.\n",
    "\n",
    "Στη συνέχεια βρίσκω το γινόμενο $A^{T}A$, ορίζω το διάνυσμα των δεδομένων $b=[\\begin{array}{*{20}{c}}\n",
    "  {{y_1}}&{{y_2}}&{...}&{{y_{49}}} \n",
    "\\end{array}]$ και η λύση του συστήματος γίνεται:\n",
    "\n",
    "$A^{T}A \\cdot X= A^{T}b \\Rightarrow  X=(A^{T}A)^{-1}A^{T}b $. Η υλοποίηση σε κώδικα είναι:\n"
   ]
  },
  {
   "cell_type": "code",
   "execution_count": 10,
   "id": "44935d45",
   "metadata": {},
   "outputs": [
    {
     "name": "stdout",
     "output_type": "stream",
     "text": [
      "LU Polynomial:  [  0.95685567   1.04393892 -13.28764162  12.5210036   -1.74351697]\n",
      "QR Polynomial:  [  0.95685566   1.04393913 -13.28764256  12.52100506  -1.7435177 ]\n",
      "LU Square Errors: 0.3854542613997605 \n",
      "QR Square Errors: 0.3854542610117355\n"
     ]
    },
    {
     "data": {
      "image/png": "[encoded data removed]",
      "text/plain": [
       "<Figure size 432x288 with 1 Axes>"
      ]
     },
     "metadata": {
      "needs_background": "light"
     },
     "output_type": "display_data"
    }
   ],
   "source": [
    "t=np.array([i/50 for i in range (50)])\n",
    "y=np.array([0 for i in range (50)])\n",
    "\n",
    "y=np.cos(4*t)+0.1*np.random.randn(t.shape[0])\n",
    "coeflu=np.array([0, 0, 0, 0, 0])\n",
    "coefqr=np.array([0, 0 ,0 ,0 ,0])\n",
    "A=np.array(np.zeros((50,5)))\n",
    "for j in range (0,5):\n",
    "    for i in range(0,50):\n",
    "        A[i][j]=t[i]**j\n",
    "At=A.T\n",
    "Amult=np.dot(At,A)\n",
    "b=np.dot(At,y)\n",
    "coeflu=LUsolve(Amult, b)\n",
    "print(\"LU Polynomial: \",coeflu)\n",
    "Amult=np.dot(At,A)\n",
    "coefqr=QRsolve(Amult, b)\n",
    "print(\"QR Polynomial: \",coefqr)\n",
    "polylu=[np.polyval(np.flip(coeflu),i) for i in t]\n",
    "polyqr=[np.polyval(np.flip(coefqr),i) for i in t]\n",
    "\n",
    "qrerr=0\n",
    "luerr=0\n",
    "\n",
    "#luerr2=(np.linalg.norm(y-np.dot(A,np.transpose(coeflu))))**2\n",
    "#qrerr2=(np.linalg.norm(y-np.dot(A,np.transpose(coefqr))))**2\n",
    "for i in range (0,49):\n",
    "    luerr=luerr+(polylu[i]-y[i])**2\n",
    "    qrerr=qrerr+(polyqr[i]-y[i])**2\n",
    "\n",
    "\n",
    "print(\"LU Square Errors:\",luerr,\"\\nQR Square Errors:\",qrerr)\n",
    "\n",
    "plt.plot(t,y)\n",
    "plt.plot(t,polylu,label='lu')\n",
    "plt.plot(t,polyqr,label='qr')\n",
    "plt.title(\"Data-Fitting Curve\")\n",
    "plt.legend()\n",
    "plt.show()"
   ]
  },
  {
   "cell_type": "markdown",
   "id": "27519fb2",
   "metadata": {},
   "source": [
    "Παρατηρώ ότι και οι δύο μέθοδοι έχουν πολύ καλή ακρίβεια στην προσέγγιση της καμπύλης δίνοντας παρόμοια αποτελέσματα έως και το 4ο δεκαδικό ψηφίο των συντελεστών του πολυωνύμου.Συνεπώς, οι καμπύλες φαίνεται στο διάγραμμα να ταυτίζονται και να ακολουθούν πιστά τη διαδρομή των δεδομένων. Το άθροισμα των τετραγωνικών σφαλμάτων που υπολογίστηκε από τη σχέση $\\sum\\limits_{i = 1}^{n}(y_i-P(x_i))^{2}$ είναι επίσης πολύ κοντά και στις δύο μεθόδους (ελαφρά υπερτερεί η LU, όπως ήταν αναμενόμενο). Έτσι, σε ένα πρακτικό πρόβλημα προσέγγισης παρατηρώ ότι και οι δύο αλγόριθμοι δουλεύουν πολύ καλά."
   ]
  }
 ],
 "metadata": {
  "kernelspec": {
   "display_name": "Python 3 (ipykernel)",
   "language": "python",
   "name": "python3"
  },
  "language_info": {
   "codemirror_mode": {
    "name": "ipython",
    "version": 3
   },
   "file_extension": ".py",
   "mimetype": "text/x-python",
   "name": "python",
   "nbconvert_exporter": "python",
   "pygments_lexer": "ipython3",
   "version": "3.9.12"
  }
 },
 "nbformat": 4,
 "nbformat_minor": 5
}
